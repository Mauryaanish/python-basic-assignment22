{
  "nbformat": 4,
  "nbformat_minor": 0,
  "metadata": {
    "colab": {
      "provenance": []
    },
    "kernelspec": {
      "name": "python3",
      "display_name": "Python 3"
    },
    "language_info": {
      "name": "python"
    }
  },
  "cells": [
    {
      "cell_type": "markdown",
      "source": [
        "1. What is the result of the code, and explain?\n",
        "\n",
        "&gt;&gt;&gt; X = &#39;iNeuron&#39;\n",
        "&gt;&gt;&gt; def func():\n",
        "print(X)\n",
        "\n",
        "&gt;&gt;&gt; func()"
      ],
      "metadata": {
        "id": "M-t8i-uW2BDs"
      }
    },
    {
      "cell_type": "code",
      "source": [
        "X = 'iNeuron'\n",
        "def func():\n",
        "    print(X)\n",
        "func()\n",
        "\n",
        "#Ans. The global variables are accessible in side the functions in python. \n",
        "#But we can not access function variable out side function. \n",
        "#Since x is global variable we are able to print it in side the function solution : 'iNeuron'"
      ],
      "metadata": {
        "colab": {
          "base_uri": "https://localhost:8080/"
        },
        "id": "qblwjMI42EEO",
        "outputId": "fefd2817-fae7-427e-d96d-1309c67ca514"
      },
      "execution_count": 14,
      "outputs": [
        {
          "output_type": "stream",
          "name": "stdout",
          "text": [
            "iNeuron\n"
          ]
        }
      ]
    },
    {
      "cell_type": "code",
      "source": [],
      "metadata": {
        "id": "iP4B5O_32TJm"
      },
      "execution_count": null,
      "outputs": []
    },
    {
      "cell_type": "markdown",
      "source": [
        "2. What is the result of the code, and explain?\n",
        "\n",
        "&gt;&gt;&gt; X = &#39;iNeuron&#39;\n",
        "&gt;&gt;&gt; def func():\n",
        "X = &#39;NI!&#39;\n",
        "\n",
        "&gt;&gt;&gt; func()\n",
        "# &gt;&gt;&gt; print(X)"
      ],
      "metadata": {
        "id": "N2D3ncRu2T-s"
      }
    },
    {
      "cell_type": "code",
      "source": [
        "X = 'iNeuron'\n",
        "def func():\n",
        "    X = 'NI!'\n",
        "\n",
        "func()\n",
        "print(X)\n",
        "\n",
        "#Ans. The global variables are access in side the functions in python. But we can not access function variable out side function.\n",
        "# Since x is golbal variable we are able to print it out side of the function solution = 'iNeuron'"
      ],
      "metadata": {
        "colab": {
          "base_uri": "https://localhost:8080/"
        },
        "id": "BUWN-yAR2V-W",
        "outputId": "a2b02ba9-d4d3-4e4d-95fa-56e7f56cb0de"
      },
      "execution_count": 15,
      "outputs": [
        {
          "output_type": "stream",
          "name": "stdout",
          "text": [
            "iNeuron\n"
          ]
        }
      ]
    },
    {
      "cell_type": "code",
      "source": [],
      "metadata": {
        "id": "hEozTQav2fMG"
      },
      "execution_count": null,
      "outputs": []
    },
    {
      "cell_type": "markdown",
      "source": [
        "3. What does this code print, and why?\n",
        "\n",
        "&gt;&gt;&gt; X = &#39;iNeuron&#39;\n",
        "&gt;&gt;&gt; def func():\n",
        "X = &#39;NI&#39;\n",
        "print(X)\n",
        "\n",
        "&gt;&gt;&gt; func()\n",
        "&gt;&gt;&gt; print(X)"
      ],
      "metadata": {
        "id": "DnF1hkju2hj0"
      }
    },
    {
      "cell_type": "code",
      "source": [
        "X = 'iNeuron'\n",
        "def func():\n",
        "    X = 'NI!'\n",
        "    print(X)\n",
        "\n",
        "func()\n",
        "print(X)\n",
        "\n",
        "#Ans. The global variables are access in side the functions in python. But we can not access function variable out side function.\n",
        "# X is updated with 'NI' which is local to function and its immutable. its name space is with in the function solution = 'NI!', 'iNeuron'"
      ],
      "metadata": {
        "colab": {
          "base_uri": "https://localhost:8080/"
        },
        "id": "HTtI3fFF2lcl",
        "outputId": "d89fbe07-091c-4bb6-99fb-83d9d50921c4"
      },
      "execution_count": 16,
      "outputs": [
        {
          "output_type": "stream",
          "name": "stdout",
          "text": [
            "NI!\n",
            "iNeuron\n"
          ]
        }
      ]
    },
    {
      "cell_type": "code",
      "source": [],
      "metadata": {
        "id": "ezShnKSW2ol-"
      },
      "execution_count": null,
      "outputs": []
    },
    {
      "cell_type": "markdown",
      "source": [
        "4. What output does this code produce? Why?\n",
        "\n",
        "&gt;&gt;&gt; X = &#39;iNeuron&#39;\n",
        "&gt;&gt;&gt; def func():\n",
        "global X\n",
        "X = &#39;NI&#39;\n",
        "\n",
        "&gt;&gt;&gt; func()\n",
        "&gt;&gt;&gt; print(X)"
      ],
      "metadata": {
        "id": "CuIgS1bM2sSz"
      }
    },
    {
      "cell_type": "code",
      "source": [
        "X = 'iNeuron'\n",
        "def func():\n",
        "    global X\n",
        "    X = 'NI!'\n",
        "    print(X)\n",
        "\n",
        "func()\n",
        "print(X)\n",
        "#Ans. since the X in side function is made Global, it will be accesible out side of the function too. \n",
        "#now X will have new value.\n",
        "\n",
        " #solution : 'NI!', 'NI!'"
      ],
      "metadata": {
        "colab": {
          "base_uri": "https://localhost:8080/"
        },
        "id": "kn5Ahcnj2s-W",
        "outputId": "43847586-b598-4d2e-c645-ccd51ad7c940"
      },
      "execution_count": 17,
      "outputs": [
        {
          "output_type": "stream",
          "name": "stdout",
          "text": [
            "NI!\n",
            "NI!\n"
          ]
        }
      ]
    },
    {
      "cell_type": "code",
      "source": [],
      "metadata": {
        "id": "gtNWrNWF2wLe"
      },
      "execution_count": null,
      "outputs": []
    },
    {
      "cell_type": "markdown",
      "source": [
        "5. What about this code—what’s the output, and why?\n",
        "\n",
        "&gt;&gt;&gt; X = &#39;iNeuron&#39;\n",
        "&gt;&gt;&gt; def func():\n",
        "X = &#39;NI&#39;\n",
        "def nested():\n",
        "print(X)\n",
        "nested()\n",
        "\n",
        "&gt;&gt;&gt; func()\n",
        "&gt;&gt;&gt; X"
      ],
      "metadata": {
        "id": "uPM3ctxX268E"
      }
    },
    {
      "cell_type": "code",
      "source": [
        "X = 'iNeuron'\n",
        "def func():\n",
        "    X = 'NI'\n",
        "def nested():\n",
        "    print(X)\n",
        "    \n",
        "nested()\n",
        "func()\n",
        "X\n",
        "\n",
        "#Ans. the nested() function will print 'iNeuron', Then func() does not display anything,\n",
        "# and x ='NI' is not accessible out \n",
        "#side the function.\n",
        "#Solution : 'iNeuro"
      ],
      "metadata": {
        "colab": {
          "base_uri": "https://localhost:8080/",
          "height": 53
        },
        "id": "JggVyZ1627t-",
        "outputId": "3a933b71-406c-4de3-dd7b-26c99e4c6e22"
      },
      "execution_count": 18,
      "outputs": [
        {
          "output_type": "stream",
          "name": "stdout",
          "text": [
            "iNeuron\n"
          ]
        },
        {
          "output_type": "execute_result",
          "data": {
            "text/plain": [
              "'iNeuron'"
            ],
            "application/vnd.google.colaboratory.intrinsic+json": {
              "type": "string"
            }
          },
          "metadata": {},
          "execution_count": 18
        }
      ]
    },
    {
      "cell_type": "code",
      "source": [],
      "metadata": {
        "id": "oCnjil7J2-6m"
      },
      "execution_count": null,
      "outputs": []
    },
    {
      "cell_type": "markdown",
      "source": [
        "6. How about this code: what is its output in Python 3, and explain?\n",
        "\n",
        "&gt;&gt;&gt; def func():\n",
        "X = &#39;NI&#39;\n",
        "def nested():\n",
        "nonlocal X\n",
        "X = &#39;Spam&#39;\n",
        "nested()\n",
        "print(X)\n",
        "\n",
        "&gt;&gt;&gt; func()"
      ],
      "metadata": {
        "id": "F8OT8U0a3Cek"
      }
    },
    {
      "cell_type": "code",
      "source": [
        "def func():\n",
        "    X = 'NI'\n",
        "    def nested():\n",
        "        nonlocal X\n",
        "        X = 'spam'\n",
        "    nested()\n",
        "    print(X)\n",
        "\n",
        "func()\n",
        "\n",
        "#Nonlocal variables are used in nested functions whose local scope is not defined. \n",
        "#This means that the variable can be neither in the local nor the global scope. it print the updated value from nested \n",
        "#function\n",
        "\n",
        "#Sol : 'spam'\n",
        "     "
      ],
      "metadata": {
        "id": "-0L76zSV3DJ-",
        "outputId": "c2bb3c1f-6675-4bba-df94-cfbe42d99102",
        "colab": {
          "base_uri": "https://localhost:8080/"
        }
      },
      "execution_count": 19,
      "outputs": [
        {
          "output_type": "stream",
          "name": "stdout",
          "text": [
            "spam\n"
          ]
        }
      ]
    },
    {
      "cell_type": "code",
      "source": [],
      "metadata": {
        "id": "JNl1JBVw3FYO"
      },
      "execution_count": null,
      "outputs": []
    }
  ]
}